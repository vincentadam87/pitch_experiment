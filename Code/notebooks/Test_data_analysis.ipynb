{
 "metadata": {
  "name": ""
 },
 "nbformat": 3,
 "nbformat_minor": 0,
 "worksheets": [
  {
   "cells": [
    {
     "cell_type": "code",
     "collapsed": false,
     "input": [
      "%pylab inline\n",
      "import scipy\n",
      "from scipy.io import wavfile\n",
      "from IPython.core.display import HTML\n",
      "from __future__ import division\n",
      "import numpy as np\n",
      "import struct, sys \n",
      "import os, sys, inspect\n",
      "# realpath() with make your script run, even if you symlink it :)\n",
      "cmd_subfolder = os.path.realpath(\"../scripts\")\n",
      "if cmd_subfolder not in sys.path:\n",
      "    sys.path.insert(0, cmd_subfolder)\n",
      "from matplotlib import pyplot as plt\n"
     ],
     "language": "python",
     "metadata": {},
     "outputs": [
      {
       "output_type": "stream",
       "stream": "stdout",
       "text": [
        "Populating the interactive namespace from numpy and matplotlib\n"
       ]
      }
     ],
     "prompt_number": 1
    },
    {
     "cell_type": "code",
     "collapsed": false,
     "input": [
      "import analysis as analysis\n",
      "import exp_param as exp_param"
     ],
     "language": "python",
     "metadata": {},
     "outputs": [],
     "prompt_number": 2
    },
    {
     "cell_type": "code",
     "collapsed": false,
     "input": [
      "analysis.read_data('test')"
     ],
     "language": "python",
     "metadata": {},
     "outputs": [
      {
       "output_type": "stream",
       "stream": "stdout",
       "text": [
        "['1', '1']\n",
        "['16', '1']\n",
        "['3', '1']\n",
        "['16', '-1']\n",
        "['6', '1']\n",
        "['11', '-1']\n",
        "['12', '1']\n",
        "['3', '-1']\n",
        "['41', '-1']\n",
        "['18', '1']\n",
        "['11', '-1']\n",
        "['12', '-1']\n",
        "['3', '1']\n",
        "['41', '-1']\n",
        "['6', '7']\n",
        "['16', '-1']\n",
        "['12', '-1']\n",
        "['32', '1']\n",
        "['4', '1']\n",
        "['6', '1']\n",
        "['15', '-1']\n",
        "['12', '1']\n",
        "['3', '1']\n",
        "['18', '1']\n",
        "['6', '0']\n",
        "['17', '1']\n",
        "['12', '-1']\n",
        "['32', '0']\n",
        "['18', '-1']\n",
        "['6', '7']\n",
        "['16', '0']\n"
       ]
      }
     ],
     "prompt_number": 3
    },
    {
     "cell_type": "code",
     "collapsed": false,
     "input": [
      "import csv\n",
      "import numpy as np\n",
      "with open('test.csv', 'r') as f:\n",
      "    reader = csv.reader(f)\n",
      "    reader.next()\n",
      "    x = list(reader)\n",
      "    y = [[int(string) for string in inner] for inner in x]\n"
     ],
     "language": "python",
     "metadata": {},
     "outputs": [],
     "prompt_number": 5
    },
    {
     "cell_type": "code",
     "collapsed": false,
     "input": [
      "index= 13\n",
      "col1 =[ row[0] for row in y]\n",
      "\n",
      "INDEX = [15,16,17,18]\n",
      "counts = zeros((4,3),int)\n",
      "\n",
      "\n",
      "# Extract counts for HCT\n",
      "i_index = -1\n",
      "for index in INDEX:\n",
      "    i_index += 1\n",
      "    for row in y:\n",
      "        if (row[0] == index):\n",
      "            if (row[1] == 1):\n",
      "                counts[i_index,0] += 1 \n",
      "            elif (row[1] == -1):\n",
      "                counts[i_index,1] += 1 \n",
      "            else:\n",
      "                counts[i_index,2] += 1\n",
      "                \n",
      "# Compute Accuracy for HCT\n",
      "accuracy = zeros((4,1),float)\n",
      "i_index = -1\n",
      "for row in counts:\n",
      "    i_index += 1\n",
      "    accuracy[i_index] = row[0]/(row[0]+row[1])\n",
      "\n",
      "                "
     ],
     "language": "python",
     "metadata": {},
     "outputs": [],
     "prompt_number": 6
    },
    {
     "cell_type": "code",
     "collapsed": false,
     "input": [
      "Exp = exp_param.exp_param()\n",
      "print(Exp.isRespCorrect(17,0))"
     ],
     "language": "python",
     "metadata": {},
     "outputs": [
      {
       "output_type": "stream",
       "stream": "stdout",
       "text": [
        "False\n"
       ]
      }
     ],
     "prompt_number": 13
    }
   ],
   "metadata": {}
  }
 ]
}