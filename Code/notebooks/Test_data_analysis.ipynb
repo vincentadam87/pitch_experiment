{
 "metadata": {
  "name": ""
 },
 "nbformat": 3,
 "nbformat_minor": 0,
 "worksheets": [
  {
   "cells": [
    {
     "cell_type": "code",
     "collapsed": false,
     "input": [
      "%pylab inline\n",
      "import scipy\n",
      "from scipy.io import wavfile\n",
      "from IPython.core.display import HTML\n",
      "from __future__ import division\n",
      "import numpy as np\n",
      "import struct, sys \n",
      "import os, sys, inspect\n",
      "# realpath() with make your script run, even if you symlink it :)\n",
      "cmd_subfolder = os.path.realpath(\"../scripts\")\n",
      "if cmd_subfolder not in sys.path:\n",
      "    sys.path.insert(0, cmd_subfolder)\n",
      "from matplotlib import pyplot as plt\n",
      "\n",
      "import analysis as analysis\n",
      "import exp_param as exp_param"
     ],
     "language": "python",
     "metadata": {},
     "outputs": [
      {
       "output_type": "stream",
       "stream": "stdout",
       "text": [
        "Populating the interactive namespace from numpy and matplotlib\n"
       ]
      }
     ],
     "prompt_number": 1
    },
    {
     "cell_type": "code",
     "collapsed": false,
     "input": [
      "import csv\n",
      "import numpy as np\n",
      "with open('test.csv', 'r') as f:\n",
      "    reader = csv.reader(f)\n",
      "    reader.next()\n",
      "    x = list(reader)\n",
      "    y = [[int(string) for string in inner] for inner in x]\n",
      "\n",
      "    \n",
      "INDEX_hct = [15,16,17,18]\n",
      "counts_hct = zeros((len(INDEX_hct),3),int) # correct, incorrect, missed\n",
      "\n",
      "INDEX_control = [19,20,21,22]\n",
      "counts_control = zeros((len(INDEX_control),3),int) # correct, incorrect, missed\n",
      "\n",
      "# Extract counts for HCT\n",
      "i_index = -1\n",
      "for index in INDEX_hct:\n",
      "    i_index += 1\n",
      "    for row in y:\n",
      "        if (row[0] == index):\n",
      "            if (row[2] == 1): #correct\n",
      "                counts_hct[i_index,0] += 1 \n",
      "            elif (row[2] == 0): #incorrect\n",
      "                counts_hct[i_index,1] += 1 \n",
      "            elif (row[2] == -1):#missed\n",
      "                counts_hct[i_index,2] += 1\n",
      "                \n",
      "# Compute Accuracy for HCT\n",
      "accuracy_hct = zeros((4),float)\n",
      "i_index = -1\n",
      "for row in counts_hct:\n",
      "    i_index += 1\n",
      "    accuracy_hct[i_index] = row[0]/(row[0]+row[1])\n",
      "\n",
      "# Extract counts for CONTROLS\n",
      "i_index = -1\n",
      "for index in INDEX_control:\n",
      "    i_index += 1\n",
      "    for row in y:\n",
      "        if (row[0] == index):\n",
      "            if (row[2] == 1): #correct\n",
      "                counts_control[i_index,0] += 1 \n",
      "            elif (row[2] == 0): #incorrect\n",
      "                counts_control[i_index,1] += 1 \n",
      "            elif (row[2] == -1):#missed\n",
      "                counts_control[i_index,2] += 1\n",
      "                \n",
      "# Compute Accuracy for HCT\n",
      "accuracy_control = zeros((4),float)\n",
      "i_index = -1\n",
      "for row in counts_control:\n",
      "    i_index += 1\n",
      "    accuracy_control[i_index] = row[0]/(row[0]+row[1])\n",
      "\n",
      "# Make psychometric curve for ACTs\n",
      "\n",
      "INDEX_act = np.arange(0,15) # [0...14]\n",
      "counts_act = np.zeros((len(INDEX_act),3),int) # 3 timbre/snr,  5 ratios, 3 possible responses\n",
      "\n",
      "\n",
      "# Extract counts for ACTs\n",
      "i_index = -1\n",
      "for index in INDEX_act:\n",
      "    i_index += 1\n",
      "    for row in y:\n",
      "        if (row[0] == index):\n",
      "            if (row[1] == 1): #pressed up\n",
      "                counts_act[i_index,0] += 1 \n",
      "            elif (row[1] == -1): #pressed down\n",
      "                counts_act[i_index,1] += 1 \n",
      "            else:# pressed other key (miss)#psy_curve = np.zeros((3,5)) # cond * ratio\n",
      "\n",
      "                counts_act[i_index,2] += 1\n",
      "\n",
      "# Compute Accuracy for ACT\n",
      "accuracy_act = zeros((len(INDEX_act)),float)\n",
      "i_index = -1\n",
      "for row in counts_act:\n",
      "    i_index += 1\n",
      "    accuracy_act[i_index] = row[0]/(row[0]+row[1])\n",
      "\n",
      "# Merge accuracies to build psychometric curves\n",
      "# indices of sounds of increasing ratio for the 3 conditions\n",
      "ind_by_cond = [np.arange(0,15,3),\n",
      "               np.arange(1,15,3),\n",
      "               np.arange(2,15,3)]\n",
      "\n",
      "\n",
      "psy_curve = [[accuracy_act[index] for index in row] for row in ind_by_cond]\n",
      "psy_curve_std = [[accuracy_act[index]*(1-accuracy_act[index]) for index in row] for row in ind_by_cond]\n",
      "\n",
      "# compute std\n",
      "std_control = ((1-accuracy_control)*accuracy_control)\n",
      "std_hct = ((1- accuracy_hct)*accuracy_hct)\n",
      "std_act= ((1- accuracy_act)*accuracy_act)"
     ],
     "language": "python",
     "metadata": {},
     "outputs": [],
     "prompt_number": 2
    },
    {
     "cell_type": "code",
     "collapsed": false,
     "input": [
      "print(accuracy_control)\n",
      "print(std_control)\n",
      "\n",
      "print(accuracy_hct)\n",
      "print(psy_curve)\n"
     ],
     "language": "python",
     "metadata": {},
     "outputs": [
      {
       "output_type": "stream",
       "stream": "stdout",
       "text": [
        "[ 0.50364964  0.51526718  0.5755102   0.46830986]\n",
        "[ 0.24998668  0.24976691  0.24429821  0.24899573]\n",
        "[ 0.53113553  0.57986111  0.492       0.52363636]\n",
        "[[0.52027027027027029, 0.49305555555555558, 0.45098039215686275, 0.54838709677419351, 0.52142857142857146], [0.50318471337579618, 0.44866920152091255, 0.48134328358208955, 0.48648648648648651, 0.48675496688741721], [0.55434782608695654, 0.47183098591549294, 0.4689655172413793, 0.47368421052631576, 0.50694444444444442]]\n"
       ]
      }
     ],
     "prompt_number": 3
    },
    {
     "cell_type": "code",
     "collapsed": false,
     "input": [
      "import numpy as np\n",
      "import matplotlib.pyplot as plt\n",
      "\n",
      "\n",
      "N = 2\n",
      "ind = np.arange(N)  # the x locations for the groups\n",
      "width = 0.35       # the width of the bars\n",
      "\n",
      "hctf250m = accuracy_hct[[0,2]]\n",
      "hctf250std = std_hct[[0,2]]\n",
      "\n",
      "hctf500m = accuracy_hct[[1,3]]\n",
      "hctf500std = std_hct[[1,3]]\n",
      "\n",
      "print(hctf250std)\n",
      "print(hctf250m)\n",
      "\n",
      "fig, ax = plt.subplots()\n",
      "rects1 = ax.bar(ind, hctf500m, width, color='r', yerr=hctf500std)\n",
      "rects2 = ax.bar(ind+width, hctf250m, width, color='y', yerr=hctf250std)\n",
      "ax.set_ylabel('fraction high') \n",
      "ax.set_xticks(ind+width)\n",
      "ax.set_xticklabels( ('500 Hz', '250 Hz') )\n",
      "ax.legend( (rects1[0], rects2[0]), ('Broad', 'Dark') )\n",
      "ax.set_title('HCT')\n",
      "plt.ylim(0,1)\n",
      "plt.show()"
     ],
     "language": "python",
     "metadata": {},
     "outputs": [
      {
       "output_type": "stream",
       "stream": "stdout",
       "text": [
        "[ 0.24903058  0.249936  ]\n",
        "[ 0.53113553  0.492     ]\n"
       ]
      },
      {
       "metadata": {},
       "output_type": "display_data",
       "png": "[encoded data removed]",
       "text": [
        "<matplotlib.figure.Figure at 0xac584cc>"
       ]
      }
     ],
     "prompt_number": 4
    },
    {
     "cell_type": "code",
     "collapsed": false,
     "input": [
      "controlf250m = accuracy_control[[0,2]]\n",
      "controlf250std = std_control[[0,2]]\n",
      "\n",
      "controlf500m = accuracy_control[[1,3]]\n",
      "controlf250std = std_control[[0,2]]\n",
      "\n",
      "fig, ax = plt.subplots()\n",
      "rects1 = ax.bar(ind, controlf500m, width, color='r', yerr=hctf500std)\n",
      "rects2 = ax.bar(ind+width, controlf250m, width, color='y', yerr=hctf250std)\n",
      "ax.set_ylabel('fraction high')\n",
      "ax.set_xticks(ind+width)\n",
      "ax.set_xticklabels( ('500 Hz', '250 Hz') )\n",
      "ax.legend( (rects1[0], rects2[0]), ('Broad', 'Dark') )\n",
      "ax.set_title('Controls')\n",
      "\n",
      "plt.ylim(0,1)\n",
      "plt.show()"
     ],
     "language": "python",
     "metadata": {},
     "outputs": [
      {
       "metadata": {},
       "output_type": "display_data",
       "png": "[encoded data removed]",
       "text": [
        "<matplotlib.figure.Figure at 0xac5866c>"
       ]
      }
     ],
     "prompt_number": 5
    },
    {
     "cell_type": "code",
     "collapsed": false,
     "input": [
      "Exp = exp_param.exp_param()\n",
      "\n",
      "RATIO = Exp.RATIO\n",
      "\n",
      "for i in arange(0,shape(psy_curve)[0]):\n",
      "    plt.errorbar(RATIO, psy_curve[i], yerr=psy_curve_std[i] , linestyle=\"dashed\", marker=\"o\")\n",
      "plt.ylim(0,1)\n",
      "legend(['0db dark','0db', '-6dB'])\n",
      "plt.title('Timbral effects, ACT')\n",
      "xlabel('ratio')\n",
      "ylabel('fraction high')\n",
      "grid(True)\n",
      "show()\n",
      "\n",
      "# check bernoulli cramer rao : http://math.arizona.edu/~jwatkins/m-unbiased.pdf"
     ],
     "language": "python",
     "metadata": {},
     "outputs": [
      {
       "metadata": {},
       "output_type": "display_data",
       "png": "[encoded data removed]",
       "text": [
        "<matplotlib.figure.Figure at 0xaf2a64c>"
       ]
      }
     ],
     "prompt_number": 6
    }
   ],
   "metadata": {}
  }
 ]
}