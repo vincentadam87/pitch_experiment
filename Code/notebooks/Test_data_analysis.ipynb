{
 "metadata": {
  "name": ""
 },
 "nbformat": 3,
 "nbformat_minor": 0,
 "worksheets": [
  {
   "cells": [
    {
     "cell_type": "code",
     "collapsed": false,
     "input": [
      "%pylab inline\n",
      "import scipy\n",
      "from scipy.io import wavfile\n",
      "from IPython.core.display import HTML\n",
      "from __future__ import division\n",
      "import numpy as np\n",
      "import struct, sys \n",
      "import os, sys, inspect\n",
      "# realpath() with make your script run, even if you symlink it :)\n",
      "cmd_subfolder = os.path.realpath(\"../scripts\")\n",
      "if cmd_subfolder not in sys.path:\n",
      "    sys.path.insert(0, cmd_subfolder)\n",
      "cmd_subfolder1 = os.path.realpath(\"../data\")\n",
      "if cmd_subfolder1 not in sys.path:\n",
      "    sys.path.insert(0, cmd_subfolder1)\n",
      "\n",
      "from matplotlib import pyplot as plt\n",
      "\n",
      "import analysis as analysis\n",
      "import exp_param as exp_param"
     ],
     "language": "python",
     "metadata": {},
     "outputs": [
      {
       "output_type": "stream",
       "stream": "stdout",
       "text": [
        "Populating the interactive namespace from numpy and matplotlib\n"
       ]
      },
      {
       "output_type": "stream",
       "stream": "stderr",
       "text": [
        "WARNING: pylab import has clobbered these variables: ['f', 'inner']\n",
        "`%pylab --no-import-all` prevents importing * from pylab and numpy\n"
       ]
      }
     ],
     "prompt_number": 71
    },
    {
     "cell_type": "code",
     "collapsed": false,
     "input": [
      "import csv\n",
      "import numpy as np\n",
      "\n",
      "path = '../data/'\n",
      "filename = 'gui_short2014_Jan_03_1512'\n",
      "filename = 'remi_short2014_Jan_03_1512'\n",
      "filename = 'VINCENT5JAN'\n",
      "\n",
      "with open(path+filename+'.csv', 'r') as f:\n",
      "    reader = csv.reader(f)\n",
      "    reader.next()\n",
      "    x = list(reader)\n",
      "    y = [[int(string) for string in inner] for inner in x]\n",
      "\n",
      "    \n",
      "\n",
      "INDEX_hct = [15,16,17,18]\n",
      "CORRECT_hct = [0,0,1,1]\n",
      "counts_hct = zeros((len(INDEX_hct),3),int) # correct, incorrect, missed\n",
      "\n",
      "INDEX_control = [19,20,21,22]\n",
      "CORRECT_control = [0,0,1,1]\n",
      "counts_control = zeros((len(INDEX_control),3),int) # correct, incorrect, missed\n",
      "\n",
      "# Extract counts for HCT\n",
      "i_index = -1\n",
      "for index in INDEX_hct:\n",
      "    i_index += 1\n",
      "    for row in y:\n",
      "        if (row[0] == index):\n",
      "            if (row[2] == 1): #correct\n",
      "                counts_hct[i_index,0] += 1 \n",
      "            elif (row[2] == 0): #incorrect\n",
      "                counts_hct[i_index,1] += 1 \n",
      "            elif (row[2] == -1):#missed\n",
      "                counts_hct[i_index,2] += 1\n",
      "                \n",
      "# Compute Accuracy for HCT\n",
      "accuracy_hct = zeros((4),float)\n",
      "i_index = -1\n",
      "for row in counts_hct:\n",
      "    i_index += 1\n",
      "    a = row[1]/(row[0]+row[1])\n",
      "    x = CORRECT_hct[i_index]\n",
      "    accuracy_hct[i_index] = a**x*(1-a)**(1-x)\n",
      "\n",
      "# Extract counts for CONTROLS (counts of correct answers)\n",
      "i_index = -1\n",
      "for index in INDEX_control:\n",
      "    i_index += 1\n",
      "    for row in y:\n",
      "        if (row[0] == index):\n",
      "            if (row[2] == 1): #correct\n",
      "                counts_control[i_index,0] += 1 \n",
      "            elif (row[2] == 0): #incorrect\n",
      "                counts_control[i_index,1] += 1 \n",
      "            elif (row[2] == -1):#missed\n",
      "                counts_control[i_index,2] += 1\n",
      "                \n",
      "# Compute Accuracy for HCT\n",
      "accuracy_control = zeros((4),float)\n",
      "i_index = -1\n",
      "for row in counts_control:\n",
      "    i_index += 1\n",
      "    a = row[1]/(row[0]+row[1])\n",
      "    x = CORRECT_hct[i_index]\n",
      "    accuracy_control[i_index] = a**x*(1-a)**(1-x)\n",
      "\n",
      "# Make psychometric curve for ACTs\n",
      "\n",
      "INDEX_act = np.arange(0,15) # [0...14]\n",
      "counts_act = np.zeros((len(INDEX_act),3),int) # 3 timbre/snr,  5 ratios, 3 possible responses\n",
      "\n",
      "\n",
      "# Extract counts for ACTs\n",
      "i_index = -1\n",
      "for index in INDEX_act:\n",
      "    i_index += 1\n",
      "    for row in y:\n",
      "        if (row[0] == index):\n",
      "            if (row[1] == 1): #pressed up\n",
      "                counts_act[i_index,0] += 1 \n",
      "            elif (row[1] == -1): #pressed down\n",
      "                counts_act[i_index,1] += 1 \n",
      "            else:# pressed other key (miss)#psy_curve = np.zeros((3,5)) # cond * ratio\n",
      "\n",
      "                counts_act[i_index,2] += 1\n",
      "\n",
      "# Compute Accuracy for ACT\n",
      "accuracy_act = zeros((len(INDEX_act)),float)\n",
      "i_index = -1\n",
      "for row in counts_act:\n",
      "    i_index += 1\n",
      "    accuracy_act[i_index] = row[0]/(row[0]+row[1])\n",
      "\n",
      "# Merge accuracies to build psychometric curves\n",
      "# indices of sounds of increasing ratio for the 3 conditions\n",
      "ind_by_cond = [np.arange(0,15,3),\n",
      "               np.arange(1,15,3),\n",
      "               np.arange(2,15,3)]\n",
      "\n",
      "\n",
      "psy_curve = [[accuracy_act[index] for index in row] for row in ind_by_cond]\n",
      "psy_curve_std = [[accuracy_act[index]*(1-accuracy_act[index]) for index in row] for row in ind_by_cond]\n",
      "\n",
      "# compute std\n",
      "std_control = ((1-accuracy_control)*accuracy_control)\n",
      "std_hct = ((1- accuracy_hct)*accuracy_hct)\n",
      "std_act= ((1- accuracy_act)*accuracy_act)"
     ],
     "language": "python",
     "metadata": {},
     "outputs": [],
     "prompt_number": 77
    },
    {
     "cell_type": "code",
     "collapsed": false,
     "input": [
      "print(accuracy_control)\n",
      "print(std_control)\n",
      "\n",
      "print(accuracy_hct)\n",
      "print(psy_curve)\n"
     ],
     "language": "python",
     "metadata": {},
     "outputs": [
      {
       "output_type": "stream",
       "stream": "stdout",
       "text": [
        "[ 1.          0.96666667  0.          0.03333333]\n",
        "[ 0.          0.03222222  0.          0.03222222]\n",
        "[ 1.  1.  0.  0.]\n",
        "[[1.0, 0.8666666666666667, 0.0, 0.0, 0.0], [1.0, 0.96666666666666667, 0.76666666666666672, 0.20000000000000001, 0.0], [1.0, 0.8666666666666667, 0.59999999999999998, 0.066666666666666666, 0.0]]\n"
       ]
      }
     ],
     "prompt_number": 78
    },
    {
     "cell_type": "code",
     "collapsed": false,
     "input": [
      "import numpy as np\n",
      "import matplotlib.pyplot as plt\n",
      "\n",
      "\n",
      "N = 2\n",
      "ind = np.arange(N)  # the x locations for the groups\n",
      "width = 0.35       # the width of the bars\n",
      "\n",
      "hctf250m = accuracy_hct[[0,2]]\n",
      "hctf250std = std_hct[[0,2]]\n",
      "\n",
      "hctf500m = accuracy_hct[[1,3]]\n",
      "hctf500std = std_hct[[1,3]]\n",
      "\n",
      "print(hctf250std)\n",
      "print(hctf250m)\n",
      "\n",
      "fig, ax = plt.subplots()\n",
      "rects1 = ax.bar(ind, hctf500m, width, color='r', yerr=hctf500std)\n",
      "rects2 = ax.bar(ind+width, hctf250m, width, color='y', yerr=hctf250std)\n",
      "ax.set_ylabel('fraction high') \n",
      "ax.set_xticks(ind+width)\n",
      "ax.set_xticklabels( ('500 Hz', '250 Hz') )\n",
      "ax.legend( (rects1[0], rects2[0]), ('Broad', 'Dark') )\n",
      "ax.set_title('HCT')\n",
      "plt.ylim(0,1)\n",
      "plt.show()"
     ],
     "language": "python",
     "metadata": {},
     "outputs": [
      {
       "output_type": "stream",
       "stream": "stdout",
       "text": [
        "[ 0.  0.]\n",
        "[ 1.  0.]\n"
       ]
      },
      {
       "metadata": {},
       "output_type": "display_data",
       "png": "[encoded data removed]",
       "text": [
        "<matplotlib.figure.Figure at 0x9e01d8c>"
       ]
      }
     ],
     "prompt_number": 79
    },
    {
     "cell_type": "code",
     "collapsed": false,
     "input": [
      "controlf250m = accuracy_control[[0,2]]\n",
      "controlf250std = std_control[[0,2]]\n",
      "\n",
      "controlf500m = accuracy_control[[1,3]]\n",
      "controlf500std = std_control[[1,3]]\n",
      "\n",
      "fig, ax = plt.subplots()\n",
      "rects1 = ax.bar(ind, controlf500m, width, color='r', yerr=controlf500std    #accuracy_control[i_index] = row[0]/(row[0]+row[1])\n",
      ")\n",
      "rects2 = ax.bar(ind+width, controlf250m, width, color='y', yerr=controlf250std)\n",
      "ax.set_ylabel('fraction high')\n",
      "ax.set_xticks(ind+width)\n",
      "ax.set_xticklabels( ('500 Hz', '250 Hz') )\n",
      "ax.legend( (rects1[0], rects2[0]), ('Broad', 'Dark') )\n",
      "ax.set_title('Controls')\n",
      "\n",
      "plt.ylim(0,1)\n",
      "plt.show()"
     ],
     "language": "python",
     "metadata": {},
     "outputs": [
      {
       "metadata": {},
       "output_type": "display_data",
       "png": "[encoded data removed]",
       "text": [
        "<matplotlib.figure.Figure at 0x9de67ac>"
       ]
      }
     ],
     "prompt_number": 80
    },
    {
     "cell_type": "code",
     "collapsed": false,
     "input": [
      "Exp = exp_param.exp_param()\n",
      "\n",
      "RATIO = Exp.RATIO\n",
      "\n",
      "for i in arange(0,shape(psy_curve)[0]):\n",
      "    plt.errorbar(RATIO, psy_curve[i], yerr=psy_curve_std[i] , linestyle=\"dashed\", marker=\"o\")\n",
      "plt.ylim(0,1)\n",
      "legend(['0db dark','0db', '-6dB'])\n",
      "plt.title('Timbral effects, ACT')\n",
      "xlabel('ratio')\n",
      "ylabel('fraction high')\n",
      "grid(True)\n",
      "show()\n",
      "\n",
      "# check bernoulli cramer rao : http://math.arizona.edu/~jwatkins/m-unbiased.pdf"
     ],
     "language": "python",
     "metadata": {},
     "outputs": [
      {
       "metadata": {},
       "output_type": "display_data",
       "png": "[encoded data removed]",
       "text": [
        "<matplotlib.figure.Figure at 0x9d661ac>"
       ]
      }
     ],
     "prompt_number": 81
    },
    {
     "cell_type": "code",
     "collapsed": false,
     "input": [],
     "language": "python",
     "metadata": {},
     "outputs": [],
     "prompt_number": 65
    }
   ],
   "metadata": {}
  }
 ]
}